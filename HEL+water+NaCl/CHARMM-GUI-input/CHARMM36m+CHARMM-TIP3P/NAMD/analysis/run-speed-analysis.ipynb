{
 "cells": [
  {
   "cell_type": "code",
   "execution_count": null,
   "metadata": {},
   "outputs": [],
   "source": [
    "# import libararies for plotting and some analysis\n",
    "import matplotlib.pyplot as plt\n",
    "import pandas as pd\n",
    "import numpy as np"
   ]
  },
  {
   "cell_type": "code",
   "execution_count": null,
   "metadata": {},
   "outputs": [],
   "source": [
    "# data structure fro storing run-time information\n",
    "\n",
    "df = pd.DataFrame(columns=[\"run\", \"vanilla\", \"imdv3\", \"imdv3-fileio\", \"imdv3-streaming\"])\n",
    "df[\"run\"] = [1, 2, 3, 4, 5]\n"
   ]
  },
  {
   "cell_type": "code",
   "execution_count": null,
   "metadata": {},
   "outputs": [],
   "source": [
    "# plot of run-time average for each column\n",
    "\n",
    "df[\"vanilla\"] = [0.000, 0.000, 0.000, 0.000, 0.000]\n",
    "df[\"imdv3\"] = [0.000, 0.000, 0.000, 0.000, 0.000]\n",
    "df[\"imdv3-fileio\"] = [0.000, 0.000, 0.000, 0.000, 0.000]\n",
    "df[\"imdv3-streaming\"] = [0.000, 0.000, 0.000, 0.000, 0.000]"
   ]
  },
  {
   "cell_type": "code",
   "execution_count": null,
   "metadata": {},
   "outputs": [],
   "source": [
    "# plot of run-time average for each column\n",
    "# scatter of time average over runs v/s type of run\n",
    "# x-axis: type of run (vanilla, imdv3, imdv3-fileio, imdv3-streaming)\n",
    "# y-axis: time average over runs\n",
    "\n",
    "plt.figure()\n",
    "plt."
   ]
  }
 ],
 "metadata": {
  "kernelspec": {
   "display_name": "Python 3",
   "language": "python",
   "name": "python3"
  },
  "language_info": {
   "name": "python",
   "version": "3.11.9"
  }
 },
 "nbformat": 4,
 "nbformat_minor": 2
}
